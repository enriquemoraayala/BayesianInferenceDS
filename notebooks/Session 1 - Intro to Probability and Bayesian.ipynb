{
 "cells": [
  {
   "cell_type": "markdown",
   "metadata": {},
   "source": [
    "# Bayesian Inference Session 1: Introduction"
   ]
  },
  {
   "cell_type": "markdown",
   "metadata": {},
   "source": [
    "## Thomas Bayes\n",
    "\n",
    "Thomas Bayes, a mathematician, was born in London, England in 1702 and died in Tunbridge Wells, Kent, England on April 17, 1761. His father, Joshua Bayes, was one of the first six non-conformist (Presbyterian) ministers to be ordained in England. His family moved to London when his father Joshua was appointed assistant at St Thomas. He was the oldest of seven siblings. Possibly De Moivre, author of the famous book The Doctrine of Probabilities, was his private tutor as it is known that he was teaching in London at that time. In 1719, he enrolled at Edinburgh University where he studied logic and theology. Non-conformist students were not allowed at Oxford or Cambridge. Like his father, Bayes was ordained as a dissenting minister, and in 1731 he became a reverend of the Presbyterian church in Tunbridge Wells; apparently he tried to retire in 1749, but continued to serve until 1752, and remained there until his death.\n",
    "\n",
    "![Thomas Bayes](./images/bayes_01.jpg)"
   ]
  },
  {
   "cell_type": "markdown",
   "metadata": {},
   "source": [
    "During the time of the Reverends Thomas Bayes and Richard Price, in the 1740s, a harsh controversy had erupted about the **improbability of Christian miracles**. The question was whether there were any clues in the natural world to help us reach rational conclusions about a Creator God, what in the 18th century was known as the cause or **the first cause**.\n",
    "\n",
    "We don't know whether Bayes was trying to prove the existence of God as a cause. But we do know that he tried to mathematically confront the problem of cause and effect. However, Bayes didn't trust his theorem enough to publish it. He archived the theorem in his notebook, and it wasn't discovered until ten or fifteen years after his death. In his will, he left Price 100 pounds and a request: to please look at his unpublished writings.\n",
    "\n",
    "While reviewing it, Price became convinced that the theorem would help prove the existence of God as a cause. After two years of editing Bayes' theorem, he published it in an English magazine that, unfortunately, few mathematicians read. \n",
    "\n",
    "A few years later, in 1774, a great French mathematician, **Pierre Simon Laplace**, discovered the rule independently of Bayes and Price. Laplace called it the probability of causes. Unlike Bayes and Price, Laplace was the quintessential professional scientist. He mathematized all known science of his time and spent forty years intermittently developing what we know as **Bayes' rule** (Laplace, 1812). In fact, up until about fifty years ago, Bayes' rule was considered part of Laplace's work. By right, we should still know it as Laplace's rule."
   ]
  },
  {
   "cell_type": "markdown",
   "metadata": {},
   "source": [
    "## But... what is Bayesian inference?\n",
    "\n",
    "mmmm... the question is complex. Let's start with a couple of examples and definitions:\n",
    "\n",
    "**Definition**: Bayesian Inference is a statistical framework that focuses on updating our understanding (or “belief”) about uncertain parameters in light of new data. It is grounded in Bayes’ Theorem, which provides a systematic way to revise probabilities (or probability distributions) as additional evidence is introduced. Rather than relying solely on fixed estimates, Bayesian methods treat model parameters as random variables with prior probability distributions; these priors get updated to posterior distributions once data is observed."
   ]
  },
  {
   "cell_type": "markdown",
   "metadata": {},
   "source": [
    "wait wait...inference?\n",
    "\n",
    "The main reason to use **statistical inference** is to make informed decisions or draw conclusions about a population or a process when it is impractical or impossible to observe all data. Statistical inference provides tools to analyze sample data and generalize findings to the broader population, all while quantifying uncertainty. This is particularly valuable in real-world scenarios where complete information is rarely available."
   ]
  },
  {
   "cell_type": "markdown",
   "metadata": {},
   "source": []
  }
 ],
 "metadata": {
  "kernelspec": {
   "display_name": "bayesian",
   "language": "python",
   "name": "python3"
  },
  "language_info": {
   "name": "python",
   "version": "3.10.15"
  }
 },
 "nbformat": 4,
 "nbformat_minor": 2
}
