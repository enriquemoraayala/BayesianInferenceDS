{
 "cells": [
  {
   "cell_type": "markdown",
   "metadata": {},
   "source": [
    "from Stats Rethinking"
   ]
  }
 ],
 "metadata": {
  "language_info": {
   "name": "python"
  }
 },
 "nbformat": 4,
 "nbformat_minor": 2
}
